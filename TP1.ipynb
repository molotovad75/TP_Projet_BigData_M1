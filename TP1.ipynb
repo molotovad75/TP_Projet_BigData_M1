{
 "cells": [
  {
   "cell_type": "code",
   "execution_count": 20,
   "id": "b819ed64",
   "metadata": {},
   "outputs": [
    {
     "name": "stdout",
     "output_type": "stream",
     "text": [
      "0\n",
      "0\n",
      "0\n",
      "0\n",
      "0\n",
      "0\n",
      "0\n",
      "0\n",
      "0\n",
      "0\n",
      "0\n",
      "0\n",
      "0\n",
      "0\n",
      "0\n",
      "0\n",
      "0\n",
      "0\n",
      "0\n",
      "0\n",
      "1\n",
      "0\n",
      "0\n",
      "0\n",
      "0\n",
      "0\n",
      "1\n",
      "0\n",
      "0\n",
      "0\n",
      "0\n",
      "0\n",
      "0\n",
      "1\n",
      "0\n",
      "1\n",
      "0\n",
      "0\n",
      "0\n",
      "0\n",
      "0\n",
      "1\n",
      "0\n",
      "1\n",
      "1\n",
      "0\n",
      "0\n",
      "0\n",
      "0\n",
      "0\n",
      "1\n",
      "0\n",
      "1\n",
      "1\n",
      "1\n"
     ]
    },
    {
     "data": {
      "image/png": "[encoded data removed]",
      "text/plain": [
       "<Figure size 640x480 with 1 Axes>"
      ]
     },
     "metadata": {},
     "output_type": "display_data"
    }
   ],
   "source": [
    "#TP1 Apprentissage d'un neurone d'un ensemble de points répartis\n",
    "import numpy as np\n",
    "import random\n",
    "import matplotlib.pyplot as pyplot\n",
    "\n",
    "#Q1 Creation du dataset pour l'entraineent du neurone.\n",
    "tab_random_choice=[]\n",
    "max_abscisce=10\n",
    "\n",
    "x_zero=[]#abscisse pour la classe 0\n",
    "x_un=[]#abscisse pour la classe 1\n",
    "y_zero=[]#ordonnée pour la classe 0\n",
    "y_un=[]#ordonnée pour la classe 1 \n",
    "commencement_x_0=0\n",
    "commencement_x_1=-10\n",
    "\n",
    "for i in range(max_abscisce): #Pour la création des abscises\n",
    "    classe=random.randint(0,1)\n",
    "    tab_random_choice.append(classe)\n",
    "    # On sauvegarde le choix dans tableau \n",
    "    for e in range(len(tab_random_choice)):\n",
    "        print(str(tab_random_choice[e]))\n",
    "        # Affichage aléatoire des 0 et des 1\n",
    "\n",
    "        if(tab_random_choice[e]==0):\n",
    "            x_zero.append(commencement_x_0)\n",
    "            y_zero.append(tab_random_choice[e])\n",
    "            commencement_x_0=commencement_x_0+1\n",
    "        elif(tab_random_choice[e]==1):\n",
    "            x_un.append(commencement_x_1)\n",
    "            y_un.append(tab_random_choice[e])\n",
    "            commencement_x_1=commencement_x_1+1\n",
    "\n",
    "pyplot.xlim(-10,10)\n",
    "pyplot.ylim(0,10)\n",
    "pyplot.plot(x_zero,y_zero,\"o-\",label=\"Classe 0\",linewidth=3)\n",
    "pyplot.plot(x_un,y_un,\"o-\",label=\"Classe 1\",linewidth=3)\n",
    "pyplot.show(tab_random_choice)"
   ]
  },
  {
   "cell_type": "code",
   "execution_count": null,
   "id": "923f32ae",
   "metadata": {},
   "outputs": [],
   "source": []
  },
  {
   "cell_type": "code",
   "execution_count": null,
   "id": "a977216e",
   "metadata": {},
   "outputs": [],
   "source": []
  }
 ],
 "metadata": {
  "kernelspec": {
   "display_name": "Python 3 (ipykernel)",
   "language": "python",
   "name": "python3"
  },
  "language_info": {
   "codemirror_mode": {
    "name": "ipython",
    "version": 3
   },
   "file_extension": ".py",
   "mimetype": "text/x-python",
   "name": "python",
   "nbconvert_exporter": "python",
   "pygments_lexer": "ipython3",
   "version": "3.9.13"
  }
 },
 "nbformat": 4,
 "nbformat_minor": 5
}
