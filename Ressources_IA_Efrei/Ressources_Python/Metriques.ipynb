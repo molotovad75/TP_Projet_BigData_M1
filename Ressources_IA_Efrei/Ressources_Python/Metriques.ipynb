{
 "cells": [
  {
   "cell_type": "code",
   "execution_count": 52,
   "metadata": {},
   "outputs": [],
   "source": [
    "# importation\n",
    "import numpy as np\n",
    "import time\n",
    "from sklearn.linear_model import SGDClassifier\n",
    "from keras.datasets import mnist\n",
    "from sklearn.metrics import confusion_matrix\n",
    "from sklearn.model_selection import cross_val_score\n",
    "from sklearn.model_selection import cross_val_predict\n",
    "from keras.utils import np_utils\n",
    "import matplotlib as mpl\n",
    "import matplotlib.pyplot as plt"
   ]
  },
  {
   "cell_type": "code",
   "execution_count": 53,
   "metadata": {},
   "outputs": [],
   "source": [
    "# Chargement des données \n",
    "(X_train, Y_train), (X_test, Y_test) = mnist.load_data()\n",
    "X_train=X_train.reshape(60000, 784)\n",
    "X_test=X_test.reshape(10000, 784)\n",
    "X_train=X_train.astype('float32')  \n",
    "X_test=X_test.astype('float32')\n",
    "X_train/=255\n",
    "X_test/=255"
   ]
  },
  {
   "cell_type": "code",
   "execution_count": 54,
   "metadata": {},
   "outputs": [
    {
     "data": {
      "text/plain": [
       "<function matplotlib.pyplot.show(*args, **kw)>"
      ]
     },
     "execution_count": 54,
     "metadata": {},
     "output_type": "execute_result"
    },
    {
     "data": {
      "image/png": "[encoded data removed]",
      "text/plain": [
       "<Figure size 432x288 with 1 Axes>"
      ]
     },
     "metadata": {
      "needs_background": "light"
     },
     "output_type": "display_data"
    }
   ],
   "source": [
    "# Pour l'entrainement et la prédiction de mon modèle je ne chois que des données portant sur le chiffre '5'\n",
    "Y_train_5=(Y_train==5)  \n",
    "Y_test_5=(Y_test==5)\n",
    "\n",
    "# affiche d'une image\n",
    "chiffre=X_train[0]\n",
    "chiffre_image=chiffre.reshape(28,28)\n",
    "plt.imshow(chiffre_image, cmap=\"binary\")\n",
    "plt.axis(\"off\")\n",
    "plt.show"
   ]
  },
  {
   "cell_type": "code",
   "execution_count": 55,
   "metadata": {},
   "outputs": [
    {
     "data": {
      "text/plain": [
       "array([ True])"
      ]
     },
     "execution_count": 55,
     "metadata": {},
     "output_type": "execute_result"
    }
   ],
   "source": [
    "# On définit un modèle de classifieur basé sur la déscnete du Gradient\n",
    "model=SGDClassifier(random_state=42)\n",
    "model.fit(X_train,Y_train_5)\n",
    "\n",
    "# Prédiction du modèle sur un chiffre\n",
    "model.predict([chiffre])"
   ]
  },
  {
   "cell_type": "code",
   "execution_count": 56,
   "metadata": {},
   "outputs": [
    {
     "data": {
      "text/plain": [
       "array([0.97666667, 0.97291667, 0.9755    , 0.96816667, 0.97425   ])"
      ]
     },
     "execution_count": 56,
     "metadata": {},
     "output_type": "execute_result"
    }
   ],
   "source": [
    "# Evaluation du modèle par la validation croisée\n",
    "cross_val_score(model,X_train, Y_train_5, cv=5, scoring=\"accuracy\")"
   ]
  },
  {
   "cell_type": "code",
   "execution_count": 57,
   "metadata": {},
   "outputs": [
    {
     "data": {
      "text/plain": [
       "array([[54093,   486],\n",
       "       [ 1104,  4317]])"
      ]
     },
     "execution_count": 57,
     "metadata": {},
     "output_type": "execute_result"
    }
   ],
   "source": [
    "# Matrice de confusion\n",
    "chiffres_predits=cross_val_predict(model, X_train,Y_train_5)\n",
    "confusion_matrix(Y_train_5,chiffres_predits)"
   ]
  },
  {
   "cell_type": "code",
   "execution_count": null,
   "metadata": {},
   "outputs": [],
   "source": []
  }
 ],
 "metadata": {
  "kernelspec": {
   "display_name": "Python 3",
   "language": "python",
   "name": "python3"
  },
  "language_info": {
   "codemirror_mode": {
    "name": "ipython",
    "version": 3
   },
   "file_extension": ".py",
   "mimetype": "text/x-python",
   "name": "python",
   "nbconvert_exporter": "python",
   "pygments_lexer": "ipython3",
   "version": "3.7.6"
  }
 },
 "nbformat": 4,
 "nbformat_minor": 4
}
