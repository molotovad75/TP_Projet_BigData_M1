{
 "cells": [
  {
   "cell_type": "code",
   "execution_count": 4,
   "metadata": {},
   "outputs": [],
   "source": [
    "# Importations\n",
    "import numpy as np\n",
    "from random import *\n",
    "import matplotlib.pyplot as plt\n",
    "from sklearn.linear_model import LinearRegression\n",
    "from sklearn.metrics import mean_squared_error, r2_score"
   ]
  },
  {
   "cell_type": "code",
   "execution_count": 5,
   "metadata": {},
   "outputs": [],
   "source": [
    "# générations de données x et x tel que y=3*x+4+ \"bruit\"\n",
    "x=2*np.random.rand(100,1)\n",
    "y=3*x+4+np.random.rand(100,1)"
   ]
  },
  {
   "cell_type": "code",
   "execution_count": 6,
   "metadata": {},
   "outputs": [
    {
     "data": {
      "text/plain": [
       "Text(0, 0.5, 'y')"
      ]
     },
     "execution_count": 6,
     "metadata": {},
     "output_type": "execute_result"
    },
    {
     "data": {
      "image/png": "[encoded data removed]",
      "text/plain": [
       "<Figure size 432x288 with 1 Axes>"
      ]
     },
     "metadata": {
      "needs_background": "light"
     },
     "output_type": "display_data"
    }
   ],
   "source": [
    "# Visualisation de l'échantillon de données\n",
    "plt.scatter(x, y, s=10)\n",
    "plt.xlabel('x')\n",
    "plt.ylabel('y')"
   ]
  },
  {
   "cell_type": "code",
   "execution_count": 7,
   "metadata": {},
   "outputs": [
    {
     "name": "stdout",
     "output_type": "stream",
     "text": [
      "[[4.50261047]\n",
      " [2.99910985]]\n"
     ]
    }
   ],
   "source": [
    "# Calcul du parametre teta contenant les coefficients de la droite de regression.\n",
    "\n",
    "# Rajouter une ligne avec valeur 1 sur le vecteur x: Biais (coéfficient constant de la droite)\n",
    "x_2=np.c_[np.ones((100,1)),x]\n",
    "\n",
    "# calcul de teta de façon analytique (voir formile du cours): \n",
    "teta_optimal=np.linalg.inv(x_2.T.dot(x_2)).dot(x_2.T).dot(y)\n",
    "print(teta_optimal)"
   ]
  },
  {
   "cell_type": "code",
   "execution_count": 8,
   "metadata": {},
   "outputs": [
    {
     "name": "stdout",
     "output_type": "stream",
     "text": [
      "[[4.50261047]\n",
      " [2.99910985]]\n",
      "[4.50261047]\n",
      "[2.99910985]\n"
     ]
    }
   ],
   "source": [
    "# Calcul du parametre teta par la méthode de la descnte du gradient  (voir cours)\n",
    "\n",
    "alpha=0.1  # taux e la descente du gradient\n",
    "nb_iterations=1000 # nombr d'itérations de l'algorithme\n",
    "m=100.  # taille des données\n",
    "\n",
    "teta_optimal=np.random.rand(2,1)\n",
    "\n",
    "# itérations\n",
    "for iteration in range(nb_iterations):\n",
    "    gradients=2/m*x_2.T.dot(x_2.dot(teta_optimal)-y)\n",
    "    teta_optimal=teta_optimal-alpha*gradients\n",
    "print(teta_optimal)\n",
    "print(teta_optimal[0])\n",
    "print(teta_optimal[1])"
   ]
  },
  {
   "cell_type": "code",
   "execution_count": 10,
   "metadata": {},
   "outputs": [
    {
     "data": {
      "image/png": "[encoded data removed]",
      "text/plain": [
       "<Figure size 432x288 with 1 Axes>"
      ]
     },
     "metadata": {
      "needs_background": "light"
     },
     "output_type": "display_data"
    }
   ],
   "source": [
    "# Visualisation de l'échantillon de données\n",
    "plt.scatter(x, y, s=10)\n",
    "plt.xlabel('x')\n",
    "plt.ylabel('y')\n",
    "\n",
    "# Trace de la droite y=ax+b\n",
    "a=teta_optimal[0]\n",
    "b=teta_optimal[1]\n",
    "y_predict=a*x+b\n",
    "plt.plot(x, y_predict, color='r')\n",
    "plt.show()"
   ]
  },
  {
   "cell_type": "code",
   "execution_count": null,
   "metadata": {},
   "outputs": [],
   "source": []
  }
 ],
 "metadata": {
  "kernelspec": {
   "display_name": "Python 3",
   "language": "python",
   "name": "python3"
  },
  "language_info": {
   "codemirror_mode": {
    "name": "ipython",
    "version": 3
   },
   "file_extension": ".py",
   "mimetype": "text/x-python",
   "name": "python",
   "nbconvert_exporter": "python",
   "pygments_lexer": "ipython3",
   "version": "3.7.6"
  }
 },
 "nbformat": 4,
 "nbformat_minor": 4
}
