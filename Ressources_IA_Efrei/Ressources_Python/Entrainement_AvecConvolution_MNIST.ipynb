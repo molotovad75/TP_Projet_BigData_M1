{
 "cells": [
  {
   "cell_type": "code",
   "execution_count": 7,
   "metadata": {},
   "outputs": [],
   "source": [
    "import numpy as np\n",
    "import time\n",
    "from keras.datasets import mnist\n",
    "from keras.utils import np_utils\n",
    "from keras import models\n",
    "from keras import layers\n",
    "from keras import optimizers\n",
    "import pwk as pwk\n",
    "import matplotlib.pyplot as plt\n",
    "import sys,os\n",
    "from importlib import reload"
   ]
  },
  {
   "cell_type": "code",
   "execution_count": 8,
   "metadata": {},
   "outputs": [],
   "source": [
    "# fit_verbosity = 1\n",
    "# pwk.override('fit_verbosity')\n",
    "\n",
    "\n",
    "# préparation des données\n",
    "K=10;\n",
    "(X_train, Y_train), (X_test, Y_test) = mnist.load_data()\n",
    "X_train=X_train.reshape(-1,28,28,1)\n",
    "X_test=X_test.reshape(-1,28,28,1)\n",
    "\n",
    "# normalisation\n",
    "xmax=X_train.max()\n",
    "X_train=X_train/xmax\n",
    "X_test=X_test/xmax\n",
    "\n",
    "# visualisation des données\n",
    "# for i in range(10):\n",
    "    # digit=X_train[i]\n",
    "    # plt.imshow(digit, cmap=plt.cm.binary)\n",
    "    # plt.show()\n",
    "\n",
    "# X_train=X_train.reshape(60000, 784)\n",
    "# X_test=X_test.reshape(10000, 784)\n",
    "# X_train=X_train.astype('float32')  \n",
    "# X_test=X_test.astype('float32')\n",
    "# X_train/=255\n",
    "# X_test/=255\n",
    "\n",
    "# visualiser les données\n",
    "# ma_pwk.plot(X_train, Y_train, [27],  x_size=5,y_size=5, colorbar=True, save_as='01-one-digit')\n",
    "# ma_pwk.plot(X_train, Y_train, range(5,41), columns=12, save_as='02-many-digits')\n",
    "\n",
    "\n",
    "\n",
    "# print (Y_train[18])\n",
    "\n",
    "#convertir class vecteur to muticlass class matrices\n",
    "Y_train = np_utils.to_categorical(Y_train, K)\n",
    "Y_test = np_utils.to_categorical(Y_test, K)\n",
    "\n",
    "# print (Y_train[18])"
   ]
  },
  {
   "cell_type": "code",
   "execution_count": 9,
   "metadata": {
    "scrolled": true
   },
   "outputs": [
    {
     "name": "stdout",
     "output_type": "stream",
     "text": [
      "Model: \"sequential_2\"\n",
      "_________________________________________________________________\n",
      "Layer (type)                 Output Shape              Param #   \n",
      "=================================================================\n",
      "conv2d_3 (Conv2D)            (None, 26, 26, 8)         80        \n",
      "_________________________________________________________________\n",
      "max_pooling2d_3 (MaxPooling2 (None, 13, 13, 8)         0         \n",
      "_________________________________________________________________\n",
      "conv2d_4 (Conv2D)            (None, 11, 11, 16)        1168      \n",
      "_________________________________________________________________\n",
      "max_pooling2d_4 (MaxPooling2 (None, 5, 5, 16)          0         \n",
      "_________________________________________________________________\n",
      "flatten_2 (Flatten)          (None, 400)               0         \n",
      "_________________________________________________________________\n",
      "dense_3 (Dense)              (None, 100)               40100     \n",
      "_________________________________________________________________\n",
      "dense_4 (Dense)              (None, 10)                1010      \n",
      "=================================================================\n",
      "Total params: 42,358\n",
      "Trainable params: 42,358\n",
      "Non-trainable params: 0\n",
      "_________________________________________________________________\n"
     ]
    }
   ],
   "source": [
    "# création du modele\n",
    "\n",
    "model=models.Sequential()\n",
    "model.add(layers.Conv2D(8,(3,3), activation='relu',input_shape=(28,28,1)))\n",
    "model.add(layers.MaxPooling2D((2,2)))\n",
    "model.add(layers.Conv2D(16,(3,3), activation='relu')) \n",
    "model.add(layers.MaxPooling2D((2,2)))\n",
    "model.add(layers.Flatten())\n",
    "model.add(layers.Dense(100, activation='relu'))\n",
    "model.add(layers.Dense(10, activation='softmax'))\n",
    "model.summary()"
   ]
  },
  {
   "cell_type": "code",
   "execution_count": 10,
   "metadata": {},
   "outputs": [],
   "source": [
    "# compilation du modèle\n",
    "model.compile(optimizer=optimizers.RMSprop(lr=0.001), loss='mse', metrics=['accuracy'])"
   ]
  },
  {
   "cell_type": "code",
   "execution_count": 11,
   "metadata": {},
   "outputs": [
    {
     "name": "stdout",
     "output_type": "stream",
     "text": [
      "Train on 60000 samples, validate on 10000 samples\n",
      "Epoch 1/10\n",
      "60000/60000 [==============================] - 5s 90us/step - loss: 0.0302 - accuracy: 0.7978 - val_loss: 0.0128 - val_accuracy: 0.9183\n",
      "Epoch 2/10\n",
      "60000/60000 [==============================] - 5s 90us/step - loss: 0.0100 - accuracy: 0.9365 - val_loss: 0.0076 - val_accuracy: 0.9524\n",
      "Epoch 3/10\n",
      "60000/60000 [==============================] - 6s 95us/step - loss: 0.0063 - accuracy: 0.9605 - val_loss: 0.0048 - val_accuracy: 0.9704\n",
      "Epoch 4/10\n",
      "60000/60000 [==============================] - 6s 100us/step - loss: 0.0046 - accuracy: 0.9711 - val_loss: 0.0041 - val_accuracy: 0.9726\n",
      "Epoch 5/10\n",
      "60000/60000 [==============================] - 7s 110us/step - loss: 0.0037 - accuracy: 0.9768 - val_loss: 0.0048 - val_accuracy: 0.9682\n",
      "Epoch 6/10\n",
      "60000/60000 [==============================] - 6s 103us/step - loss: 0.0030 - accuracy: 0.9811 - val_loss: 0.0033 - val_accuracy: 0.9799\n",
      "Epoch 7/10\n",
      "60000/60000 [==============================] - 6s 103us/step - loss: 0.0026 - accuracy: 0.9837 - val_loss: 0.0028 - val_accuracy: 0.9828\n",
      "Epoch 8/10\n",
      "60000/60000 [==============================] - 6s 108us/step - loss: 0.0023 - accuracy: 0.9857 - val_loss: 0.0037 - val_accuracy: 0.9763\n",
      "Epoch 9/10\n",
      "60000/60000 [==============================] - 7s 110us/step - loss: 0.0021 - accuracy: 0.9873 - val_loss: 0.0035 - val_accuracy: 0.9767\n",
      "Epoch 10/10\n",
      "60000/60000 [==============================] - 7s 111us/step - loss: 0.0019 - accuracy: 0.9885 - val_loss: 0.0021 - val_accuracy: 0.9860\n"
     ]
    }
   ],
   "source": [
    "# Entraiement du modèle\n",
    "history=model.fit(X_train, Y_train, epochs=10, batch_size=512, verbose=1, validation_data=(X_test,Y_test))"
   ]
  },
  {
   "cell_type": "code",
   "execution_count": 6,
   "metadata": {},
   "outputs": [
    {
     "name": "stdout",
     "output_type": "stream",
     "text": [
      "10000/10000 [==============================] - 1s 54us/step\n",
      "Resultats apprentissage\n",
      "Valeur perte finale (loss) 0.0034065722043662844\n",
      "Valeur de la précision(accuracy)) 0.9779000282287598\n"
     ]
    }
   ],
   "source": [
    "\n",
    "# affichahe des résultats de l'évaluation du modèle\n",
    "results=model.evaluate(X_test, Y_test)\n",
    "print('Resultats apprentissage')\n",
    "print ('Valeur perte finale (loss)', results[0])\n",
    "print ('Valeur de la précision(accuracy))', results[1])\n"
   ]
  },
  {
   "cell_type": "code",
   "execution_count": 7,
   "metadata": {},
   "outputs": [
    {
     "ename": "AttributeError",
     "evalue": "module 'pwk' has no attribute 'plot'",
     "output_type": "error",
     "traceback": [
      "\u001b[0;31m---------------------------------------------------------------------------\u001b[0m",
      "\u001b[0;31mAttributeError\u001b[0m                            Traceback (most recent call last)",
      "\u001b[0;32m<ipython-input-7-bd44f899249d>\u001b[0m in \u001b[0;36m<module>\u001b[0;34m\u001b[0m\n\u001b[1;32m      1\u001b[0m \u001b[0;31m# affichage courbe apprentissage\u001b[0m\u001b[0;34m\u001b[0m\u001b[0;34m\u001b[0m\u001b[0;34m\u001b[0m\u001b[0m\n\u001b[0;32m----> 2\u001b[0;31m \u001b[0mpwk\u001b[0m\u001b[0;34m.\u001b[0m\u001b[0mplot\u001b[0m\u001b[0;34m(\u001b[0m\u001b[0mhistory\u001b[0m\u001b[0;34m,\u001b[0m \u001b[0mfigsize\u001b[0m\u001b[0;34m=\u001b[0m\u001b[0;34m(\u001b[0m\u001b[0;36m6\u001b[0m\u001b[0;34m,\u001b[0m\u001b[0;36m4\u001b[0m\u001b[0;34m)\u001b[0m\u001b[0;34m,\u001b[0m \u001b[0msave_as\u001b[0m\u001b[0;34m=\u001b[0m\u001b[0;34m'03-history'\u001b[0m\u001b[0;34m)\u001b[0m\u001b[0;34m\u001b[0m\u001b[0;34m\u001b[0m\u001b[0m\n\u001b[0m",
      "\u001b[0;31mAttributeError\u001b[0m: module 'pwk' has no attribute 'plot'"
     ]
    }
   ],
   "source": [
    "# affichage courbe apprentissage\n",
    "pwk.plot(history, figsize=(6,4), save_as='03-history')\n"
   ]
  },
  {
   "cell_type": "code",
   "execution_count": 2,
   "metadata": {},
   "outputs": [],
   "source": [
    "!cd desktop"
   ]
  },
  {
   "cell_type": "code",
   "execution_count": 3,
   "metadata": {},
   "outputs": [
    {
     "name": "stdout",
     "output_type": "stream",
     "text": [
      "\u001b[34mApplications\u001b[m\u001b[m                       Untitled1.ipynb\r\n",
      "\u001b[34mDesktop\u001b[m\u001b[m                            Untitled2.ipynb\r\n",
      "\u001b[34mDocuments\u001b[m\u001b[m                          hs_err_pid4664.log\r\n",
      "\u001b[34mDownloads\u001b[m\u001b[m                          hs_err_pid494.log\r\n",
      "\u001b[34mDropbox\u001b[m\u001b[m                            hs_err_pid505.log\r\n",
      "Entrainement_MNIST.ipynb           hs_err_pid7192.log\r\n",
      "Entrainement_MNIST_SansKeras.ipynb \u001b[34mopt\u001b[m\u001b[m\r\n",
      "Exécution XOR.ipynb                test.m\r\n",
      "\u001b[34mLibrary\u001b[m\u001b[m                            test.py\r\n",
      "\u001b[34mMovies\u001b[m\u001b[m                             test3\r\n",
      "\u001b[34mMusic\u001b[m\u001b[m                              test_Keras\r\n",
      "\u001b[34mPictures\u001b[m\u001b[m                           untitled\r\n",
      "\u001b[34mPublic\u001b[m\u001b[m                             untitled.txt\r\n",
      "Test TensorFlow.ipynb              untitled0.py\r\n",
      "Test1.ipynb                        untitled1.py\r\n",
      "Untitled.ipynb\r\n"
     ]
    }
   ],
   "source": [
    "!ls"
   ]
  },
  {
   "cell_type": "code",
   "execution_count": null,
   "metadata": {},
   "outputs": [],
   "source": [
    "!cd Desktop"
   ]
  }
 ],
 "metadata": {
  "kernelspec": {
   "display_name": "Python 3",
   "language": "python",
   "name": "python3"
  },
  "language_info": {
   "codemirror_mode": {
    "name": "ipython",
    "version": 3
   },
   "file_extension": ".py",
   "mimetype": "text/x-python",
   "name": "python",
   "nbconvert_exporter": "python",
   "pygments_lexer": "ipython3",
   "version": "3.7.6"
  }
 },
 "nbformat": 4,
 "nbformat_minor": 4
}
